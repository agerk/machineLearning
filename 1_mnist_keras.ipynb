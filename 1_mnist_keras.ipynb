{
  "nbformat": 4,
  "nbformat_minor": 0,
  "metadata": {
    "colab": {
      "name": "1_mnist_keras.ipynb",
      "version": "0.3.2",
      "provenance": [],
      "collapsed_sections": []
    },
    "kernelspec": {
      "name": "python3",
      "display_name": "Python 3"
    }
  },
  "cells": [
    {
      "cell_type": "markdown",
      "metadata": {
        "id": "view-in-github",
        "colab_type": "text"
      },
      "source": [
        "[View in Colaboratory](https://colab.research.google.com/github/agerk/machineLearning/blob/master/1_mnist_keras.ipynb)"
      ]
    },
    {
      "metadata": {
        "id": "zrYHiShGAD4u",
        "colab_type": "text"
      },
      "cell_type": "markdown",
      "source": [
        "**MNIST with Keras**\n"
      ]
    },
    {
      "metadata": {
        "id": "6cMaoLDZAB5W",
        "colab_type": "text"
      },
      "cell_type": "markdown",
      "source": [
        "**Load liberaries**"
      ]
    },
    {
      "metadata": {
        "id": "QcPv8U-h_4jh",
        "colab_type": "code",
        "colab": {}
      },
      "cell_type": "code",
      "source": [
        "!pip install -q -U tensorflow==1.8.0\n",
        "import tensorflow as tf\n",
        "import numpy as np\n",
        "import pandas as pd\n",
        "import random\n",
        "import matplotlib.pyplot as plt"
      ],
      "execution_count": 0,
      "outputs": []
    },
    {
      "metadata": {
        "id": "tJtaXMUC9uAi",
        "colab_type": "code",
        "colab": {
          "base_uri": "https://localhost:8080/",
          "height": 34
        },
        "outputId": "ce2f4e6b-8d80-404a-9589-4858674f9737"
      },
      "cell_type": "code",
      "source": [
        "tf.__version__"
      ],
      "execution_count": 2,
      "outputs": [
        {
          "output_type": "execute_result",
          "data": {
            "text/plain": [
              "'1.8.0'"
            ]
          },
          "metadata": {
            "tags": []
          },
          "execution_count": 2
        }
      ]
    },
    {
      "metadata": {
        "id": "XSNTPydVA2lO",
        "colab_type": "text"
      },
      "cell_type": "markdown",
      "source": [
        "**Step 1: Download MNIST dataset **"
      ]
    },
    {
      "metadata": {
        "id": "XU1x-ySH_bxs",
        "colab_type": "code",
        "colab": {
          "base_uri": "https://localhost:8080/",
          "height": 51
        },
        "outputId": "351b8635-fb75-4601-98f8-622b4a66b342"
      },
      "cell_type": "code",
      "source": [
        "# download train and test data as a numpy tuple from Keras\n",
        "(train_images, train_labels), (test_images, test_labels) = tf.keras.datasets.mnist.load_data()\n"
      ],
      "execution_count": 3,
      "outputs": [
        {
          "output_type": "stream",
          "text": [
            "Downloading data from https://s3.amazonaws.com/img-datasets/mnist.npz\n",
            "11493376/11490434 [==============================] - 2s 0us/step\n"
          ],
          "name": "stdout"
        }
      ]
    },
    {
      "metadata": {
        "id": "p_A2ap1DBjfo",
        "colab_type": "text"
      },
      "cell_type": "markdown",
      "source": [
        "**Step 2: EDA**"
      ]
    },
    {
      "metadata": {
        "id": "E9lFC77eBaDT",
        "colab_type": "code",
        "colab": {
          "base_uri": "https://localhost:8080/",
          "height": 299
        },
        "outputId": "08719bec-54e5-4315-920a-c519df138cbb"
      },
      "cell_type": "code",
      "source": [
        "# plot sample data\n",
        "# create a random ids to select images\n",
        "\n",
        "%matplotlib inline\n",
        "i = random.randint(0, 100)\n",
        "print(\"Label: %s\" % train_labels[i])\n",
        "plt.imshow(train_images[i])"
      ],
      "execution_count": 23,
      "outputs": [
        {
          "output_type": "stream",
          "text": [
            "Label: 3\n"
          ],
          "name": "stdout"
        },
        {
          "output_type": "execute_result",
          "data": {
            "text/plain": [
              "<matplotlib.image.AxesImage at 0x7fe3a3b80da0>"
            ]
          },
          "metadata": {
            "tags": []
          },
          "execution_count": 23
        },
        {
          "output_type": "display_data",
          "data": {
            "image/png": "[encoded data removed]",
            "text/plain": [
              "<matplotlib.figure.Figure at 0x7fe3a3b98908>"
            ]
          },
          "metadata": {
            "tags": []
          }
        }
      ]
    },
    {
      "metadata": {
        "id": "yl2XsTr0CZKY",
        "colab_type": "text"
      },
      "cell_type": "markdown",
      "source": [
        "**Step 3: Understand data format**"
      ]
    },
    {
      "metadata": {
        "id": "PFBZDMmCCN1X",
        "colab_type": "code",
        "colab": {
          "base_uri": "https://localhost:8080/",
          "height": 85
        },
        "outputId": "ddee7e85-8cb5-45c4-e908-a893f626a4c0"
      },
      "cell_type": "code",
      "source": [
        "print(\"train dims (num of sample, w, h: \", train_images.shape)\n",
        "print(\"train labels length: \", train_labels.shape)\n",
        "\n",
        "# check data type\n",
        "print(\"train data type: \", train_images.dtype)\n",
        "print(\"test data type: \", test_images.dtype)"
      ],
      "execution_count": 38,
      "outputs": [
        {
          "output_type": "stream",
          "text": [
            "train dims (num of sample, w, h:  (60000, 28, 28)\n",
            "train labels length:  (60000,)\n",
            "train data type:  uint8\n",
            "test data type:  uint8\n"
          ],
          "name": "stdout"
        }
      ]
    },
    {
      "metadata": {
        "id": "UfcraIraD-yo",
        "colab_type": "text"
      },
      "cell_type": "markdown",
      "source": [
        "**Step 4: Reformat inputs**\n",
        "\n",
        "- Flattens the 2D wxhx1 gray scale image to 1D\n",
        "- Convert the pixel value from 0 to 250 to a number between 0 and 1-- normalization"
      ]
    },
    {
      "metadata": {
        "id": "YKiPOcj1DDo2",
        "colab_type": "code",
        "colab": {}
      },
      "cell_type": "code",
      "source": [
        "# Get sample size\n",
        "training_zise = len(train_images)\n",
        "test_size = len(test_images)\n",
        "\n",
        "# Reshape images from (N,28,28) to (N, 28x28)\n",
        "# use numpy reshape method\n",
        "train_images = np.reshape(train_images, (training_zise, 784))\n",
        "test_images = np.reshape(test_images, (test_size, 784))\n",
        "\n",
        "# Convert datatype from unit8 to float32\n",
        "train_images = train_images.astype(np.float32)\n",
        "test_images = test_images.astype(np.float32)\n",
        "\n",
        "# Normalize pixel values to make sure that the optimizer don't spend much emphasis on skewed values\n",
        "train_images /= 255    # divide pixel value by 255\n",
        "test_images /= 255"
      ],
      "execution_count": 0,
      "outputs": []
    },
    {
      "metadata": {
        "id": "XdRJgfR9HQu4",
        "colab_type": "text"
      },
      "cell_type": "markdown",
      "source": [
        "**Step 5: Encode Labels to one-hot-encoding**"
      ]
    },
    {
      "metadata": {
        "id": "0icbth4EHKtZ",
        "colab_type": "code",
        "colab": {
          "base_uri": "https://localhost:8080/",
          "height": 51
        },
        "outputId": "b8957c4d-11c1-4c7a-e2df-8bc4d6182459"
      },
      "cell_type": "code",
      "source": [
        "# Use Keras utils.to_catagorical method to one-hot-encode train and test lables\n",
        "NUM_DIGITS = 10\n",
        "\n",
        "# training labels\n",
        "print(\"Before encoding training labels: \", train_labels[0])\n",
        "train_labels = tf.keras.utils.to_categorical(train_labels, NUM_DIGITS)\n",
        "print(\"After: \", train_labels[0])\n",
        "\n",
        "# test labels\n",
        "test_labels = tf.keras.utils.to_categorical(test_labels, NUM_DIGITS)"
      ],
      "execution_count": 40,
      "outputs": [
        {
          "output_type": "stream",
          "text": [
            "Before encoding training labels:  5\n",
            "After:  [0. 0. 0. 0. 0. 1. 0. 0. 0. 0.]\n"
          ],
          "name": "stdout"
        }
      ]
    },
    {
      "metadata": {
        "id": "k8205E1BHP2_",
        "colab_type": "text"
      },
      "cell_type": "markdown",
      "source": [
        "**Step 6: Build Model using Keras Sequential API**\n",
        "- use single layer with \n",
        "- 512 hidden units\n",
        "- ReLu activation function\n",
        "- softmax for the output layer (argmax value)\n",
        "- loss function: categorical crossentropy-- information gain\n",
        "- RMSProp for optimization"
      ]
    },
    {
      "metadata": {
        "id": "wZ-jyCwWJVON",
        "colab_type": "code",
        "colab": {
          "base_uri": "https://localhost:8080/",
          "height": 204
        },
        "outputId": "bc5a86f8-720b-4a13-c251-0a8f43d54567"
      },
      "cell_type": "code",
      "source": [
        "# STEP 1: Create Model \n",
        "\n",
        "# instantiate model \n",
        "model = tf.keras.Sequential()    \n",
        "# creat model architecture with dense layer\n",
        "model.add(tf.keras.layers.Dense(512, activation=tf.nn.relu, input_shape=(784,)))\n",
        "# output layer\n",
        "model.add(tf.keras.layers.Dense(10, activation=tf.nn.softmax))\n",
        "\n",
        "# STEP 2: Compile model \n",
        "model.compile(loss='categorical_crossentropy',\n",
        "            optimizer='rmsprop',\n",
        "            metrics=['accuracy'])\n",
        "\n",
        "# STEP 3: Get model summary abot architecture, parameters etc\n",
        "model.summary()\n"
      ],
      "execution_count": 43,
      "outputs": [
        {
          "output_type": "stream",
          "text": [
            "_________________________________________________________________\n",
            "Layer (type)                 Output Shape              Param #   \n",
            "=================================================================\n",
            "dense_5 (Dense)              (None, 512)               401920    \n",
            "_________________________________________________________________\n",
            "dense_6 (Dense)              (None, 10)                5130      \n",
            "=================================================================\n",
            "Total params: 407,050\n",
            "Trainable params: 407,050\n",
            "Non-trainable params: 0\n",
            "_________________________________________________________________\n"
          ],
          "name": "stdout"
        }
      ]
    },
    {
      "metadata": {
        "id": "62W0kP8VMAN1",
        "colab_type": "text"
      },
      "cell_type": "markdown",
      "source": [
        "**Step 7: Training model with example inputs**"
      ]
    },
    {
      "metadata": {
        "id": "COU46qOULolY",
        "colab_type": "code",
        "colab": {
          "base_uri": "https://localhost:8080/",
          "height": 224
        },
        "outputId": "56e0855f-c277-459c-88e7-dec9c239fbe6"
      },
      "cell_type": "code",
      "source": [
        "# Train model using fit method\n",
        "# Assign number of epochs-- number of times the model will see the entire training set\n",
        "model.fit(train_images, train_labels, epochs=5)"
      ],
      "execution_count": 44,
      "outputs": [
        {
          "output_type": "stream",
          "text": [
            "Epoch 1/5\n",
            "60000/60000 [==============================] - 13s 215us/step - loss: 0.2084 - acc: 0.9389\n",
            "Epoch 2/5\n",
            "60000/60000 [==============================] - 12s 207us/step - loss: 0.0939 - acc: 0.9734\n",
            "Epoch 3/5\n",
            "26848/60000 [============>.................] - ETA: 6s - loss: 0.0681 - acc: 0.9817"
          ],
          "name": "stdout"
        },
        {
          "output_type": "stream",
          "text": [
            "60000/60000 [==============================] - 12s 207us/step - loss: 0.0683 - acc: 0.9806\n",
            "Epoch 4/5\n",
            "60000/60000 [==============================] - 12s 203us/step - loss: 0.0552 - acc: 0.9847\n",
            "Epoch 5/5\n",
            "42816/60000 [====================>.........] - ETA: 3s - loss: 0.0448 - acc: 0.9878"
          ],
          "name": "stdout"
        },
        {
          "output_type": "stream",
          "text": [
            "60000/60000 [==============================] - 12s 202us/step - loss: 0.0451 - acc: 0.9876\n"
          ],
          "name": "stdout"
        },
        {
          "output_type": "execute_result",
          "data": {
            "text/plain": [
              "<tensorflow.python.keras._impl.keras.callbacks.History at 0x7fe3a38e7898>"
            ]
          },
          "metadata": {
            "tags": []
          },
          "execution_count": 44
        }
      ]
    },
    {
      "metadata": {
        "id": "FaL_3YtvMCpI",
        "colab_type": "text"
      },
      "cell_type": "markdown",
      "source": [
        "**Step 8: Validation of model and parameter tuning**"
      ]
    },
    {
      "metadata": {
        "id": "j3Vi6yQRL5Ny",
        "colab_type": "code",
        "colab": {
          "base_uri": "https://localhost:8080/",
          "height": 68
        },
        "outputId": "172f7994-c14a-4992-cf1e-85a51379d5de"
      },
      "cell_type": "code",
      "source": [
        "# Get loss and accuracy using evaluate method\n",
        "loss, accuracy = model.evaluate(test_images, test_labels)\n",
        "print('Test accurcy: %.2f' % (accuracy))\n",
        "print('Test loss: %.2f' % (loss))"
      ],
      "execution_count": 48,
      "outputs": [
        {
          "output_type": "stream",
          "text": [
            "10000/10000 [==============================] - 0s 41us/step\n",
            "Test accurcy: 0.98\n",
            "Test loss: 0.09\n"
          ],
          "name": "stdout"
        }
      ]
    },
    {
      "metadata": {
        "id": "TalfomvXOGnQ",
        "colab_type": "text"
      },
      "cell_type": "markdown",
      "source": [
        "- *This tutorial is inspired by Google 2018 I/O demo by Josh Gordan*"
      ]
    },
    {
      "metadata": {
        "id": "-Nz1x_NiNHbb",
        "colab_type": "code",
        "colab": {}
      },
      "cell_type": "code",
      "source": [
        ""
      ],
      "execution_count": 0,
      "outputs": []
    }
  ]
}